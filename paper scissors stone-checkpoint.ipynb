{
 "cells": [
  {
   "cell_type": "code",
   "execution_count": 105,
   "metadata": {
    "scrolled": false
   },
   "outputs": [
    {
     "name": "stdout",
     "output_type": "stream",
     "text": [
      "[60. 31. 51.  7. 48. 22. 25. 38.  5. 23.  9. 21. 34. 41. 13. 48. 10. 14.\n",
      "  0.  0.  0.  0.  0.  0.  0.  0.  0.  0.  0.  0.  0.  0.  0.  0.  0.  0.\n",
      "  0.  0.  0.  0.  0.  0.  0.  0.  0.  0.  0.  0.  0.  0.]\n"
     ]
    },
    {
     "data": {
      "text/plain": [
       "(array([33.,  3.,  2.,  3.,  1.,  2.,  2.,  0.,  3.,  1.]),\n",
       " array([ 0.,  6., 12., 18., 24., 30., 36., 42., 48., 54., 60.]),\n",
       " <a list of 10 Patch objects>)"
      ]
     },
     "execution_count": 105,
     "metadata": {},
     "output_type": "execute_result"
    },
    {
     "data": {
      "image/png": "[encoded data removed]",
      "text/plain": [
       "<Figure size 432x288 with 1 Axes>"
      ]
     },
     "metadata": {
      "needs_background": "light"
     },
     "output_type": "display_data"
    }
   ],
   "source": [
    "import numpy as np\n",
    "import random\n",
    "import matplotlib.pyplot as plt\n",
    "n=50\n",
    "m=10\n",
    "dm=1\n",
    "k=10000\n",
    "a=np.ones([n])*m\n",
    "o=0\n",
    "j=0\n",
    "for i in range(k):\n",
    "    b=random.randint(0,n-1-o)\n",
    "    c=random.randint(0,n-2-o)\n",
    "    if c>=b:\n",
    "        c=c+1\n",
    "    g=random.randint(0,2)\n",
    "    if g==0:\n",
    "        a[b]=a[b]+dm\n",
    "        a[c]=a[c]-dm\n",
    "    if g==2:\n",
    "        a[b]=a[b]-dm\n",
    "        a[c]=a[c]+dm\n",
    "    if a[b]==0:\n",
    "        o+=1\n",
    "        a=np.delete(a, b)\n",
    "        c=0\n",
    "    if a[c]==0:\n",
    "        o+=1\n",
    "        a=np.delete(a, c)\n",
    "    if o==n-1:\n",
    "        break\n",
    "    j+=1;\n",
    "for i in range(o):\n",
    "    a = np.append(a, 0)\n",
    "print(a)\n",
    "plt.hist(a)"
   ]
  },
  {
   "cell_type": "code",
   "execution_count": null,
   "metadata": {},
   "outputs": [],
   "source": []
  },
  {
   "cell_type": "code",
   "execution_count": null,
   "metadata": {},
   "outputs": [],
   "source": []
  }
 ],
 "metadata": {
  "kernelspec": {
   "display_name": "Python 3",
   "language": "python",
   "name": "python3"
  },
  "language_info": {
   "codemirror_mode": {
    "name": "ipython",
    "version": 3
   },
   "file_extension": ".py",
   "mimetype": "text/x-python",
   "name": "python",
   "nbconvert_exporter": "python",
   "pygments_lexer": "ipython3",
   "version": "3.7.1"
  }
 },
 "nbformat": 4,
 "nbformat_minor": 2
}
